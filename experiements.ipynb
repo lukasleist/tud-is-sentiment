{
 "cells": [
  {
   "cell_type": "markdown",
   "source": [
    "# TUD IS sentiment analysis\r\n",
    "This notebook contains first expereriments.\r\n",
    "\r\n",
    "## Sentiment Analysis for Tweets from the Twitter-API with the Google Natural Language API"
   ],
   "metadata": {}
  },
  {
   "cell_type": "code",
   "execution_count": 1,
   "source": [
    "import pandas as pd\r\n",
    "from google.cloud import language_v1\r\n",
    "from searchtweets import ResultStream, gen_request_parameters, load_credentials, collect_results"
   ],
   "outputs": [],
   "metadata": {}
  },
  {
   "cell_type": "markdown",
   "source": [
    "### Preparations for Google NLP-API\r\n",
    "To authenticate against the Google NLP-API an enviromentvariable `GOOGLE_APPLICATION_CREDENTIALS` pointing to a credentials file must be present in the executing environment"
   ],
   "metadata": {}
  },
  {
   "cell_type": "code",
   "execution_count": 2,
   "source": [
    "# Instantiates a client\r\n",
    "client = language_v1.LanguageServiceClient()\r\n",
    "\r\n",
    "def analyze_tweet_sentiment(tweet):\r\n",
    "    document = language_v1.Document(content=tweet['text'], type_=language_v1.Document.Type.PLAIN_TEXT)\r\n",
    "    sentiment = client.analyze_sentiment(request={'document': document}).document_sentiment\r\n",
    "\r\n",
    "    return sentiment"
   ],
   "outputs": [],
   "metadata": {}
  },
  {
   "cell_type": "markdown",
   "source": [
    "### Preparations for Twitter-API\r\n",
    "\r\n",
    "[https://github.com/twitterdev/search-tweets-python/tree/v2](https://github.com/twitterdev/search-tweets-python/tree/v2)"
   ],
   "metadata": {}
  },
  {
   "cell_type": "code",
   "execution_count": 3,
   "source": [
    "search_args = load_credentials(filename=\"./credentials/twitter-credentials.yml\",\r\n",
    "                 yaml_key=\"search_tweets_v2\",\r\n",
    "                 env_overwrite=False)\r\n",
    "\r\n",
    "def fetch_tweets(search_term):\r\n",
    "    query = gen_request_parameters(\"{} -is:retweet\".format(search_term),\r\n",
    "                                   None,\r\n",
    "                                   results_per_call=100,\r\n",
    "                                   tweet_fields=\"id,created_at,text,lang\")\r\n",
    "    tweets = collect_results(query,\r\n",
    "                             max_tweets=100,\r\n",
    "                             result_stream_args=search_args)\r\n",
    "    return tweets[0]['data']"
   ],
   "outputs": [],
   "metadata": {}
  },
  {
   "cell_type": "code",
   "execution_count": 4,
   "source": [
    "tweets = fetch_tweets('artificial intelligence')\r\n",
    "\r\n",
    "df = pd.DataFrame(columns=['id', 'sentiment_score', 'sentiment_magnitude', 'created_at', 'text', 'lang'])\r\n",
    "for tweet in tweets[:10]:\r\n",
    "    sentiment = analyze_tweet_sentiment(tweet)\r\n",
    "    tweet['sentiment_score'] = sentiment.score\r\n",
    "    tweet['sentiment_magnitude'] = sentiment.magnitude\r\n",
    "\r\n",
    "    df = df.append(tweet, ignore_index=True)\r\n",
    "\r\n",
    "df.head()"
   ],
   "outputs": [
    {
     "output_type": "execute_result",
     "data": {
      "text/html": [
       "<div>\n",
       "<style scoped>\n",
       "    .dataframe tbody tr th:only-of-type {\n",
       "        vertical-align: middle;\n",
       "    }\n",
       "\n",
       "    .dataframe tbody tr th {\n",
       "        vertical-align: top;\n",
       "    }\n",
       "\n",
       "    .dataframe thead th {\n",
       "        text-align: right;\n",
       "    }\n",
       "</style>\n",
       "<table border=\"1\" class=\"dataframe\">\n",
       "  <thead>\n",
       "    <tr style=\"text-align: right;\">\n",
       "      <th></th>\n",
       "      <th>id</th>\n",
       "      <th>sentiment_score</th>\n",
       "      <th>sentiment_magnitude</th>\n",
       "      <th>created_at</th>\n",
       "      <th>text</th>\n",
       "      <th>lang</th>\n",
       "    </tr>\n",
       "  </thead>\n",
       "  <tbody>\n",
       "    <tr>\n",
       "      <th>0</th>\n",
       "      <td>1435692509284519936</td>\n",
       "      <td>0.1</td>\n",
       "      <td>1.7</td>\n",
       "      <td>2021-09-08T19:52:22.000Z</td>\n",
       "      <td>Research firm Gartner has identified four tren...</td>\n",
       "      <td>en</td>\n",
       "    </tr>\n",
       "    <tr>\n",
       "      <th>1</th>\n",
       "      <td>1435692382100598784</td>\n",
       "      <td>-0.1</td>\n",
       "      <td>0.1</td>\n",
       "      <td>2021-09-08T19:51:52.000Z</td>\n",
       "      <td>used artificial intelligence to solve this pse...</td>\n",
       "      <td>en</td>\n",
       "    </tr>\n",
       "    <tr>\n",
       "      <th>2</th>\n",
       "      <td>1435691950561243138</td>\n",
       "      <td>0.0</td>\n",
       "      <td>0.0</td>\n",
       "      <td>2021-09-08T19:50:09.000Z</td>\n",
       "      <td>Cryptoassets and artificial intelligence in EU...</td>\n",
       "      <td>en</td>\n",
       "    </tr>\n",
       "    <tr>\n",
       "      <th>3</th>\n",
       "      <td>1435691836291653635</td>\n",
       "      <td>0.0</td>\n",
       "      <td>0.2</td>\n",
       "      <td>2021-09-08T19:49:42.000Z</td>\n",
       "      <td>Dave Johnson, our chief data and artificial in...</td>\n",
       "      <td>en</td>\n",
       "    </tr>\n",
       "    <tr>\n",
       "      <th>4</th>\n",
       "      <td>1435691671203758095</td>\n",
       "      <td>0.0</td>\n",
       "      <td>0.3</td>\n",
       "      <td>2021-09-08T19:49:02.000Z</td>\n",
       "      <td>Will Tesla Be The First to Develop Artificial ...</td>\n",
       "      <td>en</td>\n",
       "    </tr>\n",
       "  </tbody>\n",
       "</table>\n",
       "</div>"
      ],
      "text/plain": [
       "                    id  sentiment_score  sentiment_magnitude  \\\n",
       "0  1435692509284519936              0.1                  1.7   \n",
       "1  1435692382100598784             -0.1                  0.1   \n",
       "2  1435691950561243138              0.0                  0.0   \n",
       "3  1435691836291653635              0.0                  0.2   \n",
       "4  1435691671203758095              0.0                  0.3   \n",
       "\n",
       "                 created_at  \\\n",
       "0  2021-09-08T19:52:22.000Z   \n",
       "1  2021-09-08T19:51:52.000Z   \n",
       "2  2021-09-08T19:50:09.000Z   \n",
       "3  2021-09-08T19:49:42.000Z   \n",
       "4  2021-09-08T19:49:02.000Z   \n",
       "\n",
       "                                                text lang  \n",
       "0  Research firm Gartner has identified four tren...   en  \n",
       "1  used artificial intelligence to solve this pse...   en  \n",
       "2  Cryptoassets and artificial intelligence in EU...   en  \n",
       "3  Dave Johnson, our chief data and artificial in...   en  \n",
       "4  Will Tesla Be The First to Develop Artificial ...   en  "
      ]
     },
     "metadata": {},
     "execution_count": 4
    }
   ],
   "metadata": {}
  },
  {
   "cell_type": "code",
   "execution_count": 5,
   "source": [
    "df.plot(x='created_at', y='sentiment_score')"
   ],
   "outputs": [
    {
     "output_type": "execute_result",
     "data": {
      "text/plain": [
       "<AxesSubplot:xlabel='created_at'>"
      ]
     },
     "metadata": {},
     "execution_count": 5
    },
    {
     "output_type": "display_data",
     "data": {
      "image/png": "[encoded data removed]",
      "text/plain": [
       "<Figure size 432x288 with 1 Axes>"
      ]
     },
     "metadata": {
      "needs_background": "light"
     }
    }
   ],
   "metadata": {}
  },
  {
   "cell_type": "code",
   "execution_count": null,
   "source": [],
   "outputs": [],
   "metadata": {}
  }
 ],
 "metadata": {
  "kernelspec": {
   "name": "python3",
   "display_name": "Python 3.7.9 64-bit ('tud-is-sentiment-eogrpOkI': pipenv)"
  },
  "language_info": {
   "codemirror_mode": {
    "name": "ipython",
    "version": 3
   },
   "file_extension": ".py",
   "mimetype": "text/x-python",
   "name": "python",
   "nbconvert_exporter": "python",
   "pygments_lexer": "ipython3",
   "version": "3.7.9"
  },
  "interpreter": {
   "hash": "a34627970249a5cc7440a86baa7a266c59e2ac08413904645d42aec56580eb51"
  }
 },
 "nbformat": 4,
 "nbformat_minor": 5
}