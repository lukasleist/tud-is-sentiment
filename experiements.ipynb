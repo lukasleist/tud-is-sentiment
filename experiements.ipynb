{
 "cells": [
  {
   "cell_type": "markdown",
   "source": [
    "# TUD IS sentiment analysis\r\n",
    "This notebook contains first expereriments for Sentiment Analysis of Tweets from the Twitter-API with the Google Natural Language API about certain topics."
   ],
   "metadata": {}
  },
  {
   "cell_type": "code",
   "execution_count": 29,
   "source": [
    "import pandas as pd\r\n",
    "from google.cloud import language\r\n",
    "from searchtweets import ResultStream, gen_request_parameters, load_credentials, collect_results\r\n"
   ],
   "outputs": [],
   "metadata": {}
  },
  {
   "cell_type": "code",
   "execution_count": 76,
   "source": [
    "# Difference between language and language_v1\r\n",
    "from google.cloud import language_v1, language\r\n",
    "[i for i in dir(language_v1) if i not in dir(language)]\r\n"
   ],
   "outputs": [
    {
     "output_type": "execute_result",
     "data": {
      "text/plain": [
       "['services', 'types']"
      ]
     },
     "metadata": {},
     "execution_count": 76
    }
   ],
   "metadata": {}
  },
  {
   "cell_type": "markdown",
   "source": [
    "## Comparisons\r\n",
    "### Comparison between sentiment analysis for sentences and entities\r\n",
    "\r\n",
    "The Google NLP-API provides two functions to determine the sentiment of a document one for the whole document or sentences and one to determine the sentiment towards a entities mentioned in the document. The entity sentiment analysis is only available in english. The following example shows how the scores for the general and the entity based sentiment vary for a few example sentences."
   ],
   "metadata": {}
  },
  {
   "cell_type": "code",
   "execution_count": 77,
   "source": [
    "# Instantiates a client\r\n",
    "client = language.LanguageServiceClient()\r\n",
    "\r\n",
    "sents = [\r\n",
    "    'AI is useful',\r\n",
    "    'AI is very useful',\r\n",
    "    'AI is kind of useful',\r\n",
    "    'AI is unuseful',\r\n",
    "    'AI is useless',\r\n",
    "    'AI is useless and dangerous',\r\n",
    "    'AI is useful but dangerous'\r\n",
    "]\r\n",
    "\r\n",
    "for s in sents:\r\n",
    "    document = language.Document(\r\n",
    "        content=s, type_=language.Document.Type.PLAIN_TEXT)\r\n",
    "    entity_analysis = client.analyze_entity_sentiment(\r\n",
    "        request={'document': document})\r\n",
    "    general_analysis = client.analyze_sentiment(request={'document': document})\r\n",
    "    print('{}\\tGeneral sentiment: {:.2f} - sentiment for \"AI\": {:.2f}'.format(\r\n",
    "        s,\r\n",
    "        general_analysis.document_sentiment.score,\r\n",
    "        [e.sentiment.score for e in entity_analysis.entities if e.name == 'AI'][0]\r\n",
    "    ))\r\n"
   ],
   "outputs": [
    {
     "output_type": "stream",
     "name": "stdout",
     "text": [
      "AI is useful\tGeneral sentiment: 0.70 - sentiment for \"AI\": 0.40\n",
      "AI is very useful\tGeneral sentiment: 0.80 - sentiment for \"AI\": 0.50\n",
      "AI is kind of useful\tGeneral sentiment: 0.20 - sentiment for \"AI\": 0.40\n",
      "AI is unuseful\tGeneral sentiment: 0.00 - sentiment for \"AI\": -0.30\n",
      "AI is useless\tGeneral sentiment: -0.80 - sentiment for \"AI\": -0.40\n",
      "AI is useless and dangerous\tGeneral sentiment: -0.80 - sentiment for \"AI\": -0.50\n",
      "AI is useful but dangerous\tGeneral sentiment: -0.30 - sentiment for \"AI\": -0.20\n"
     ]
    }
   ],
   "metadata": {}
  },
  {
   "cell_type": "code",
   "execution_count": 87,
   "source": [
    "search_args = load_credentials(filename=\"./credentials/twitter-hobby.yml\",\r\n",
    "                               yaml_key=\"search_tweets_v2\",\r\n",
    "                               env_overwrite=False)\r\n",
    "\r\n",
    "search_term = 'artificial intelligence'\r\n",
    "query = gen_request_parameters(\r\n",
    "    \"{} -is:retweet\".format(search_term),\r\n",
    "    None,\r\n",
    "    results_per_call=100,\r\n",
    "    tweet_fields=\"id,created_at,text,lang\")\r\n",
    "tweets = collect_results(\r\n",
    "    query,\r\n",
    "    max_tweets=100,\r\n",
    "    result_stream_args=search_args)\r\n",
    "tweets = tweets[0]['data']\r\n",
    "\r\n",
    "\r\n",
    "df = pd.DataFrame(columns=['id', 'sentiment_score',\r\n",
    "                  'sentiment_magnitude', 'created_at', 'text', 'lang'])\r\n",
    "\r\n",
    "for tweet in tweets[:10]:\r\n",
    "    \r\n",
    "    document = language.Document(content=tweet['text'], type_=language.Document.Type.PLAIN_TEXT)\r\n",
    "    analysis = client.analyze_sentiment(request={'document': document})\r\n",
    "\r\n",
    "    sentiment = analysis.document_sentiment\r\n",
    "    tweet['sentiment_score'] = sentiment.score\r\n",
    "    tweet['sentiment_magnitude'] = sentiment.magnitude\r\n",
    "\r\n",
    "    df = df.append(tweet, ignore_index=True)\r\n",
    "\r\n",
    "df.head()\r\n"
   ],
   "outputs": [
    {
     "output_type": "execute_result",
     "data": {
      "text/html": [
       "<div>\n",
       "<style scoped>\n",
       "    .dataframe tbody tr th:only-of-type {\n",
       "        vertical-align: middle;\n",
       "    }\n",
       "\n",
       "    .dataframe tbody tr th {\n",
       "        vertical-align: top;\n",
       "    }\n",
       "\n",
       "    .dataframe thead th {\n",
       "        text-align: right;\n",
       "    }\n",
       "</style>\n",
       "<table border=\"1\" class=\"dataframe\">\n",
       "  <thead>\n",
       "    <tr style=\"text-align: right;\">\n",
       "      <th></th>\n",
       "      <th>id</th>\n",
       "      <th>sentiment_score</th>\n",
       "      <th>sentiment_magnitude</th>\n",
       "      <th>created_at</th>\n",
       "      <th>text</th>\n",
       "      <th>lang</th>\n",
       "    </tr>\n",
       "  </thead>\n",
       "  <tbody>\n",
       "    <tr>\n",
       "      <th>0</th>\n",
       "      <td>1437816097839878146</td>\n",
       "      <td>0.1</td>\n",
       "      <td>0.1</td>\n",
       "      <td>2021-09-14T16:30:45.000Z</td>\n",
       "      <td>https://t.co/NEWMFJ2J8k\\n#AI #ArtificialIntell...</td>\n",
       "      <td>und</td>\n",
       "    </tr>\n",
       "    <tr>\n",
       "      <th>1</th>\n",
       "      <td>1437815964092014592</td>\n",
       "      <td>0.2</td>\n",
       "      <td>0.4</td>\n",
       "      <td>2021-09-14T16:30:13.000Z</td>\n",
       "      <td>Reminder of our first story of the day - @HHFT...</td>\n",
       "      <td>en</td>\n",
       "    </tr>\n",
       "    <tr>\n",
       "      <th>2</th>\n",
       "      <td>1437815941161705476</td>\n",
       "      <td>-0.2</td>\n",
       "      <td>0.6</td>\n",
       "      <td>2021-09-14T16:30:08.000Z</td>\n",
       "      <td>RT @wef: 50% of recruiting programs reject any...</td>\n",
       "      <td>en</td>\n",
       "    </tr>\n",
       "    <tr>\n",
       "      <th>3</th>\n",
       "      <td>1437815928671113218</td>\n",
       "      <td>0.2</td>\n",
       "      <td>0.4</td>\n",
       "      <td>2021-09-14T16:30:05.000Z</td>\n",
       "      <td>Die Anmeldung zur zweiten Ausgabe des speziali...</td>\n",
       "      <td>de</td>\n",
       "    </tr>\n",
       "    <tr>\n",
       "      <th>4</th>\n",
       "      <td>1437815928255926273</td>\n",
       "      <td>0.0</td>\n",
       "      <td>0.0</td>\n",
       "      <td>2021-09-14T16:30:05.000Z</td>\n",
       "      <td>Sono aperte le iscrizioni per la seconda edizi...</td>\n",
       "      <td>it</td>\n",
       "    </tr>\n",
       "  </tbody>\n",
       "</table>\n",
       "</div>"
      ],
      "text/plain": [
       "                    id  sentiment_score  sentiment_magnitude  \\\n",
       "0  1437816097839878146              0.1                  0.1   \n",
       "1  1437815964092014592              0.2                  0.4   \n",
       "2  1437815941161705476             -0.2                  0.6   \n",
       "3  1437815928671113218              0.2                  0.4   \n",
       "4  1437815928255926273              0.0                  0.0   \n",
       "\n",
       "                 created_at  \\\n",
       "0  2021-09-14T16:30:45.000Z   \n",
       "1  2021-09-14T16:30:13.000Z   \n",
       "2  2021-09-14T16:30:08.000Z   \n",
       "3  2021-09-14T16:30:05.000Z   \n",
       "4  2021-09-14T16:30:05.000Z   \n",
       "\n",
       "                                                text lang  \n",
       "0  https://t.co/NEWMFJ2J8k\\n#AI #ArtificialIntell...  und  \n",
       "1  Reminder of our first story of the day - @HHFT...   en  \n",
       "2  RT @wef: 50% of recruiting programs reject any...   en  \n",
       "3  Die Anmeldung zur zweiten Ausgabe des speziali...   de  \n",
       "4  Sono aperte le iscrizioni per la seconda edizi...   it  "
      ]
     },
     "metadata": {},
     "execution_count": 87
    }
   ],
   "metadata": {}
  },
  {
   "cell_type": "code",
   "execution_count": 88,
   "source": [
    "df.plot(x='created_at', y='sentiment_score')"
   ],
   "outputs": [
    {
     "output_type": "execute_result",
     "data": {
      "text/plain": [
       "<AxesSubplot:xlabel='created_at'>"
      ]
     },
     "metadata": {},
     "execution_count": 88
    },
    {
     "output_type": "display_data",
     "data": {
      "image/png": "[encoded data removed]",
      "text/plain": [
       "<Figure size 432x288 with 1 Axes>"
      ]
     },
     "metadata": {
      "needs_background": "light"
     }
    }
   ],
   "metadata": {}
  },
  {
   "cell_type": "code",
   "execution_count": null,
   "source": [],
   "outputs": [],
   "metadata": {}
  }
 ],
 "metadata": {
  "kernelspec": {
   "name": "python3",
   "display_name": "Python 3.7.9 64-bit ('tud-is-sentiment-eogrpOkI': pipenv)"
  },
  "language_info": {
   "codemirror_mode": {
    "name": "ipython",
    "version": 3
   },
   "file_extension": ".py",
   "mimetype": "text/x-python",
   "name": "python",
   "nbconvert_exporter": "python",
   "pygments_lexer": "ipython3",
   "version": "3.7.9"
  },
  "interpreter": {
   "hash": "a34627970249a5cc7440a86baa7a266c59e2ac08413904645d42aec56580eb51"
  }
 },
 "nbformat": 4,
 "nbformat_minor": 5
}