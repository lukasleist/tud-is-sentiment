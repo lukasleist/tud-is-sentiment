{
 "cells": [
  {
   "cell_type": "markdown",
   "source": [
    "# TUD IS sentiment analysis\r\n",
    "This notebook contains first expereriments for Sentiment Analysis of Tweets from the Twitter-API with the Google Natural Language API about certain topics."
   ],
   "metadata": {}
  },
  {
   "cell_type": "code",
   "execution_count": 18,
   "source": [
    "!pip install searchtweets-v2 google-cloud-language==2.2.2"
   ],
   "outputs": [
    {
     "output_type": "stream",
     "name": "stdout",
     "text": [
      "Requirement already satisfied: searchtweets-v2 in c:\\users\\lukas\\.virtualenvs\\tud-is-sentiment-eogrpoki\\lib\\site-packages (1.1.1)\n",
      "Requirement already satisfied: google-cloud-language==2.2.2 in c:\\users\\lukas\\.virtualenvs\\tud-is-sentiment-eogrpoki\\lib\\site-packages (2.2.2)\n",
      "Requirement already satisfied: proto-plus>=1.10.0 in c:\\users\\lukas\\.virtualenvs\\tud-is-sentiment-eogrpoki\\lib\\site-packages (from google-cloud-language==2.2.2) (1.19.0)\n",
      "Requirement already satisfied: google-api-core[grpc]<3.0.0dev,>=1.26.0 in c:\\users\\lukas\\.virtualenvs\\tud-is-sentiment-eogrpoki\\lib\\site-packages (from google-cloud-language==2.2.2) (2.0.1)\n",
      "Requirement already satisfied: packaging>=14.3 in c:\\users\\lukas\\.virtualenvs\\tud-is-sentiment-eogrpoki\\lib\\site-packages (from google-cloud-language==2.2.2) (21.0)\n",
      "Requirement already satisfied: requests<3.0.0dev,>=2.18.0 in c:\\users\\lukas\\.virtualenvs\\tud-is-sentiment-eogrpoki\\lib\\site-packages (from google-api-core[grpc]<3.0.0dev,>=1.26.0->google-cloud-language==2.2.2) (2.26.0)\n",
      "Requirement already satisfied: setuptools>=40.3.0 in c:\\users\\lukas\\.virtualenvs\\tud-is-sentiment-eogrpoki\\lib\\site-packages (from google-api-core[grpc]<3.0.0dev,>=1.26.0->google-cloud-language==2.2.2) (51.3.3)\n",
      "Requirement already satisfied: google-auth<3.0dev,>=1.25.0 in c:\\users\\lukas\\.virtualenvs\\tud-is-sentiment-eogrpoki\\lib\\site-packages (from google-api-core[grpc]<3.0.0dev,>=1.26.0->google-cloud-language==2.2.2) (2.0.2)\n",
      "Requirement already satisfied: googleapis-common-protos<2.0dev,>=1.6.0 in c:\\users\\lukas\\.virtualenvs\\tud-is-sentiment-eogrpoki\\lib\\site-packages (from google-api-core[grpc]<3.0.0dev,>=1.26.0->google-cloud-language==2.2.2) (1.53.0)\n",
      "Requirement already satisfied: protobuf>=3.12.0 in c:\\users\\lukas\\.virtualenvs\\tud-is-sentiment-eogrpoki\\lib\\site-packages (from google-api-core[grpc]<3.0.0dev,>=1.26.0->google-cloud-language==2.2.2) (3.17.3)\n",
      "Requirement already satisfied: grpcio<2.0dev,>=1.33.2 in c:\\users\\lukas\\.virtualenvs\\tud-is-sentiment-eogrpoki\\lib\\site-packages (from google-api-core[grpc]<3.0.0dev,>=1.26.0->google-cloud-language==2.2.2) (1.40.0)\n",
      "Requirement already satisfied: cachetools<5.0,>=2.0.0 in c:\\users\\lukas\\.virtualenvs\\tud-is-sentiment-eogrpoki\\lib\\site-packages (from google-auth<3.0dev,>=1.25.0->google-api-core[grpc]<3.0.0dev,>=1.26.0->google-cloud-language==2.2.2) (4.2.2)\n",
      "Requirement already satisfied: pyasn1-modules>=0.2.1 in c:\\users\\lukas\\.virtualenvs\\tud-is-sentiment-eogrpoki\\lib\\site-packages (from google-auth<3.0dev,>=1.25.0->google-api-core[grpc]<3.0.0dev,>=1.26.0->google-cloud-language==2.2.2) (0.2.8)\n",
      "Requirement already satisfied: rsa<5,>=3.1.4 in c:\\users\\lukas\\.virtualenvs\\tud-is-sentiment-eogrpoki\\lib\\site-packages (from google-auth<3.0dev,>=1.25.0->google-api-core[grpc]<3.0.0dev,>=1.26.0->google-cloud-language==2.2.2) (4.7.2)\n",
      "Requirement already satisfied: six>=1.5.2 in c:\\users\\lukas\\.virtualenvs\\tud-is-sentiment-eogrpoki\\lib\\site-packages (from grpcio<2.0dev,>=1.33.2->google-api-core[grpc]<3.0.0dev,>=1.26.0->google-cloud-language==2.2.2) (1.16.0)\n",
      "Requirement already satisfied: pyparsing>=2.0.2 in c:\\users\\lukas\\.virtualenvs\\tud-is-sentiment-eogrpoki\\lib\\site-packages (from packaging>=14.3->google-cloud-language==2.2.2) (2.4.7)\n",
      "Requirement already satisfied: pyasn1<0.5.0,>=0.4.6 in c:\\users\\lukas\\.virtualenvs\\tud-is-sentiment-eogrpoki\\lib\\site-packages (from pyasn1-modules>=0.2.1->google-auth<3.0dev,>=1.25.0->google-api-core[grpc]<3.0.0dev,>=1.26.0->google-cloud-language==2.2.2) (0.4.8)\n",
      "Requirement already satisfied: idna<4,>=2.5 in c:\\users\\lukas\\.virtualenvs\\tud-is-sentiment-eogrpoki\\lib\\site-packages (from requests<3.0.0dev,>=2.18.0->google-api-core[grpc]<3.0.0dev,>=1.26.0->google-cloud-language==2.2.2) (3.2)\n",
      "Requirement already satisfied: charset-normalizer~=2.0.0 in c:\\users\\lukas\\.virtualenvs\\tud-is-sentiment-eogrpoki\\lib\\site-packages (from requests<3.0.0dev,>=2.18.0->google-api-core[grpc]<3.0.0dev,>=1.26.0->google-cloud-language==2.2.2) (2.0.4)\n",
      "Requirement already satisfied: certifi>=2017.4.17 in c:\\users\\lukas\\.virtualenvs\\tud-is-sentiment-eogrpoki\\lib\\site-packages (from requests<3.0.0dev,>=2.18.0->google-api-core[grpc]<3.0.0dev,>=1.26.0->google-cloud-language==2.2.2) (2021.5.30)\n",
      "Requirement already satisfied: urllib3<1.27,>=1.21.1 in c:\\users\\lukas\\.virtualenvs\\tud-is-sentiment-eogrpoki\\lib\\site-packages (from requests<3.0.0dev,>=2.18.0->google-api-core[grpc]<3.0.0dev,>=1.26.0->google-cloud-language==2.2.2) (1.26.6)\n",
      "Requirement already satisfied: pyyaml in c:\\users\\lukas\\.virtualenvs\\tud-is-sentiment-eogrpoki\\lib\\site-packages (from searchtweets-v2) (5.4.1)\n",
      "Requirement already satisfied: python-dateutil in c:\\users\\lukas\\.virtualenvs\\tud-is-sentiment-eogrpoki\\lib\\site-packages (from searchtweets-v2) (2.8.2)\n"
     ]
    },
    {
     "output_type": "stream",
     "name": "stderr",
     "text": [
      "WARNING: You are using pip version 20.3.3; however, version 21.2.4 is available.\n",
      "You should consider upgrading via the 'C:\\Users\\Lukas\\.virtualenvs\\tud-is-sentiment-eogrpOkI\\Scripts\\python.exe -m pip install --upgrade pip' command.\n"
     ]
    }
   ],
   "metadata": {}
  },
  {
   "cell_type": "code",
   "execution_count": 19,
   "source": [
    "import pandas as pd\r\n",
    "from google.cloud import language\r\n",
    "from google.auth import load_credentials_from_file\r\n",
    "from searchtweets import ResultStream, gen_request_parameters, load_credentials, collect_results\r\n"
   ],
   "outputs": [],
   "metadata": {}
  },
  {
   "cell_type": "code",
   "execution_count": 20,
   "source": [
    "# Difference between language and language_v1\r\n",
    "from google.cloud import language_v1, language\r\n",
    "[i for i in dir(language_v1) if i not in dir(language)]\r\n"
   ],
   "outputs": [
    {
     "output_type": "execute_result",
     "data": {
      "text/plain": [
       "['services', 'types']"
      ]
     },
     "metadata": {},
     "execution_count": 20
    }
   ],
   "metadata": {}
  },
  {
   "cell_type": "markdown",
   "source": [
    "## Comparisons\r\n",
    "### Comparison between sentiment analysis for sentences and entities\r\n",
    "\r\n",
    "The Google NLP-API provides two functions to determine the sentiment of a document one for the whole document or sentences and one to determine the sentiment towards a entities mentioned in the document. The entity sentiment analysis is only available in english. The following example shows how the scores for the general and the entity based sentiment vary for a few example sentences."
   ],
   "metadata": {}
  },
  {
   "cell_type": "code",
   "execution_count": 21,
   "source": [
    "# Instantiates a client\r\n",
    "client = language.LanguageServiceClient(credentials=load_credentials_from_file('./credentials/tud-is-sentiment.json')[0])\r\n",
    "\r\n",
    "sents = [\r\n",
    "    'AI is useful',\r\n",
    "    'AI is very useful',\r\n",
    "    'AI is kind of useful',\r\n",
    "    'AI is unuseful',\r\n",
    "    'AI is useless',\r\n",
    "    'AI is useless and dangerous',\r\n",
    "    'AI is useful but dangerous'\r\n",
    "]\r\n",
    "\r\n",
    "for s in sents:\r\n",
    "    document = language.Document(\r\n",
    "        content=s, type_=language.Document.Type.PLAIN_TEXT)\r\n",
    "    entity_analysis = client.analyze_entity_sentiment(\r\n",
    "        request={'document': document})\r\n",
    "    general_analysis = client.analyze_sentiment(request={'document': document})\r\n",
    "    print('{}\\tGeneral sentiment: {:.2f} - sentiment for \"AI\": {:.2f}'.format(\r\n",
    "        s,\r\n",
    "        general_analysis.document_sentiment.score,\r\n",
    "        [e.sentiment.score for e in entity_analysis.entities if e.name == 'AI'][0]\r\n",
    "    ))\r\n"
   ],
   "outputs": [
    {
     "output_type": "stream",
     "name": "stdout",
     "text": [
      "AI is useful\tGeneral sentiment: 0.70 - sentiment for \"AI\": 0.40\n",
      "AI is very useful\tGeneral sentiment: 0.80 - sentiment for \"AI\": 0.50\n",
      "AI is kind of useful\tGeneral sentiment: 0.20 - sentiment for \"AI\": 0.40\n",
      "AI is unuseful\tGeneral sentiment: 0.00 - sentiment for \"AI\": -0.30\n",
      "AI is useless\tGeneral sentiment: -0.80 - sentiment for \"AI\": -0.40\n",
      "AI is useless and dangerous\tGeneral sentiment: -0.80 - sentiment for \"AI\": -0.50\n",
      "AI is useful but dangerous\tGeneral sentiment: -0.30 - sentiment for \"AI\": -0.20\n"
     ]
    }
   ],
   "metadata": {}
  },
  {
   "cell_type": "code",
   "execution_count": 22,
   "source": [
    "search_args = load_credentials(filename=\"./credentials/twitter-hobby.yml\",\r\n",
    "                               yaml_key=\"search_tweets_v2\",\r\n",
    "                               env_overwrite=False)\r\n",
    "\r\n",
    "search_term = 'artificial intelligence'\r\n",
    "query = gen_request_parameters(\r\n",
    "    \"{} -is:retweet\".format(search_term),\r\n",
    "    None,\r\n",
    "    results_per_call=100,\r\n",
    "    tweet_fields=\"id,created_at,text,lang\")\r\n",
    "tweets = collect_results(\r\n",
    "    query,\r\n",
    "    max_tweets=100,\r\n",
    "    result_stream_args=search_args)\r\n",
    "tweets = tweets[0]['data']\r\n",
    "\r\n",
    "\r\n",
    "df = pd.DataFrame(columns=['id', 'sentiment_score',\r\n",
    "                  'sentiment_magnitude', 'created_at', 'text', 'lang'])\r\n",
    "\r\n",
    "for tweet in tweets[:10]:\r\n",
    "    \r\n",
    "    document = language.Document(content=tweet['text'], type_=language.Document.Type.PLAIN_TEXT)\r\n",
    "    analysis = client.analyze_sentiment(request={'document': document})\r\n",
    "\r\n",
    "    sentiment = analysis.document_sentiment\r\n",
    "    tweet['sentiment_score'] = sentiment.score\r\n",
    "    tweet['sentiment_magnitude'] = sentiment.magnitude\r\n",
    "\r\n",
    "    df = df.append(tweet, ignore_index=True)\r\n",
    "\r\n",
    "df.head()\r\n"
   ],
   "outputs": [
    {
     "output_type": "execute_result",
     "data": {
      "text/html": [
       "<div>\n",
       "<style scoped>\n",
       "    .dataframe tbody tr th:only-of-type {\n",
       "        vertical-align: middle;\n",
       "    }\n",
       "\n",
       "    .dataframe tbody tr th {\n",
       "        vertical-align: top;\n",
       "    }\n",
       "\n",
       "    .dataframe thead th {\n",
       "        text-align: right;\n",
       "    }\n",
       "</style>\n",
       "<table border=\"1\" class=\"dataframe\">\n",
       "  <thead>\n",
       "    <tr style=\"text-align: right;\">\n",
       "      <th></th>\n",
       "      <th>id</th>\n",
       "      <th>sentiment_score</th>\n",
       "      <th>sentiment_magnitude</th>\n",
       "      <th>created_at</th>\n",
       "      <th>text</th>\n",
       "      <th>lang</th>\n",
       "    </tr>\n",
       "  </thead>\n",
       "  <tbody>\n",
       "    <tr>\n",
       "      <th>0</th>\n",
       "      <td>1438110553046757383</td>\n",
       "      <td>0.0</td>\n",
       "      <td>1.0</td>\n",
       "      <td>2021-09-15T12:00:49.000Z</td>\n",
       "      <td>Using Artificial Intelligence #AI effectively ...</td>\n",
       "      <td>en</td>\n",
       "    </tr>\n",
       "    <tr>\n",
       "      <th>1</th>\n",
       "      <td>1438110527629189121</td>\n",
       "      <td>0.5</td>\n",
       "      <td>1.6</td>\n",
       "      <td>2021-09-15T12:00:43.000Z</td>\n",
       "      <td>The last #BreakingBoundaries Collab Challenge ...</td>\n",
       "      <td>en</td>\n",
       "    </tr>\n",
       "    <tr>\n",
       "      <th>2</th>\n",
       "      <td>1438110513586655235</td>\n",
       "      <td>0.0</td>\n",
       "      <td>0.3</td>\n",
       "      <td>2021-09-15T12:00:39.000Z</td>\n",
       "      <td>Introducing the new Kartell A.I Recycled Bar/ ...</td>\n",
       "      <td>en</td>\n",
       "    </tr>\n",
       "    <tr>\n",
       "      <th>3</th>\n",
       "      <td>1438110513536380936</td>\n",
       "      <td>0.6</td>\n",
       "      <td>3.2</td>\n",
       "      <td>2021-09-15T12:00:39.000Z</td>\n",
       "      <td>Great instruction material. I am doing now and...</td>\n",
       "      <td>en</td>\n",
       "    </tr>\n",
       "    <tr>\n",
       "      <th>4</th>\n",
       "      <td>1438110462906966027</td>\n",
       "      <td>0.2</td>\n",
       "      <td>0.5</td>\n",
       "      <td>2021-09-15T12:00:27.000Z</td>\n",
       "      <td>Ya está disponible nuestra web https://t.co/Dm...</td>\n",
       "      <td>es</td>\n",
       "    </tr>\n",
       "  </tbody>\n",
       "</table>\n",
       "</div>"
      ],
      "text/plain": [
       "                    id  sentiment_score  sentiment_magnitude  \\\n",
       "0  1438110553046757383              0.0                  1.0   \n",
       "1  1438110527629189121              0.5                  1.6   \n",
       "2  1438110513586655235              0.0                  0.3   \n",
       "3  1438110513536380936              0.6                  3.2   \n",
       "4  1438110462906966027              0.2                  0.5   \n",
       "\n",
       "                 created_at  \\\n",
       "0  2021-09-15T12:00:49.000Z   \n",
       "1  2021-09-15T12:00:43.000Z   \n",
       "2  2021-09-15T12:00:39.000Z   \n",
       "3  2021-09-15T12:00:39.000Z   \n",
       "4  2021-09-15T12:00:27.000Z   \n",
       "\n",
       "                                                text lang  \n",
       "0  Using Artificial Intelligence #AI effectively ...   en  \n",
       "1  The last #BreakingBoundaries Collab Challenge ...   en  \n",
       "2  Introducing the new Kartell A.I Recycled Bar/ ...   en  \n",
       "3  Great instruction material. I am doing now and...   en  \n",
       "4  Ya está disponible nuestra web https://t.co/Dm...   es  "
      ]
     },
     "metadata": {},
     "execution_count": 22
    }
   ],
   "metadata": {}
  },
  {
   "cell_type": "code",
   "execution_count": 23,
   "source": [
    "df.plot(x='created_at', y='sentiment_score')"
   ],
   "outputs": [
    {
     "output_type": "execute_result",
     "data": {
      "text/plain": [
       "<AxesSubplot:xlabel='created_at'>"
      ]
     },
     "metadata": {},
     "execution_count": 23
    },
    {
     "output_type": "display_data",
     "data": {
      "image/png": "[encoded data removed]",
      "text/plain": [
       "<Figure size 432x288 with 1 Axes>"
      ]
     },
     "metadata": {
      "needs_background": "light"
     }
    }
   ],
   "metadata": {}
  },
  {
   "cell_type": "code",
   "execution_count": null,
   "source": [],
   "outputs": [],
   "metadata": {}
  }
 ],
 "metadata": {
  "kernelspec": {
   "name": "python3",
   "display_name": "Python 3.7.9 64-bit ('tud-is-sentiment-eogrpOkI': pipenv)"
  },
  "language_info": {
   "codemirror_mode": {
    "name": "ipython",
    "version": 3
   },
   "file_extension": ".py",
   "mimetype": "text/x-python",
   "name": "python",
   "nbconvert_exporter": "python",
   "pygments_lexer": "ipython3",
   "version": "3.7.9"
  },
  "interpreter": {
   "hash": "a34627970249a5cc7440a86baa7a266c59e2ac08413904645d42aec56580eb51"
  }
 },
 "nbformat": 4,
 "nbformat_minor": 5
}