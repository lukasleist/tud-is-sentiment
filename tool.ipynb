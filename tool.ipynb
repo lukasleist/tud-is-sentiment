{
 "cells": [
  {
   "cell_type": "markdown",
   "source": [
    "# TUD IS sentiment analysis tool\r\n",
    "This notebook can be used as a tool for  Sentiment Analysis of Tweets from Twitter with the Google Natural Language API about given keywords.\r\n",
    "## Preparations\r\n",
    "\r\n",
    "Installation of python requirements"
   ],
   "metadata": {}
  },
  {
   "cell_type": "code",
   "execution_count": 19,
   "source": [
    "!pip install searchtweets-v2 google-cloud-language==2.2.2"
   ],
   "outputs": [
    {
     "output_type": "stream",
     "name": "stdout",
     "text": [
      "Requirement already satisfied: searchtweets-v2 in c:\\users\\lukas\\.virtualenvs\\tud-is-sentiment-eogrpoki\\lib\\site-packages (1.1.1)\n",
      "Requirement already satisfied: google-cloud-language==2.2.2 in c:\\users\\lukas\\.virtualenvs\\tud-is-sentiment-eogrpoki\\lib\\site-packages (2.2.2)\n",
      "Requirement already satisfied: packaging>=14.3 in c:\\users\\lukas\\.virtualenvs\\tud-is-sentiment-eogrpoki\\lib\\site-packages (from google-cloud-language==2.2.2) (21.0)\n",
      "Requirement already satisfied: proto-plus>=1.10.0 in c:\\users\\lukas\\.virtualenvs\\tud-is-sentiment-eogrpoki\\lib\\site-packages (from google-cloud-language==2.2.2) (1.19.0)\n",
      "Requirement already satisfied: google-api-core[grpc]<3.0.0dev,>=1.26.0 in c:\\users\\lukas\\.virtualenvs\\tud-is-sentiment-eogrpoki\\lib\\site-packages (from google-cloud-language==2.2.2) (2.0.1)\n",
      "Requirement already satisfied: googleapis-common-protos<2.0dev,>=1.6.0 in c:\\users\\lukas\\.virtualenvs\\tud-is-sentiment-eogrpoki\\lib\\site-packages (from google-api-core[grpc]<3.0.0dev,>=1.26.0->google-cloud-language==2.2.2) (1.53.0)"
     ]
    },
    {
     "output_type": "stream",
     "name": "stderr",
     "text": [
      "WARNING: You are using pip version 20.3.3; however, version 21.2.4 is available.\n",
      "You should consider upgrading via the 'C:\\Users\\Lukas\\.virtualenvs\\tud-is-sentiment-eogrpOkI\\Scripts\\python.exe -m pip install --upgrade pip' command.\n"
     ]
    },
    {
     "output_type": "stream",
     "name": "stdout",
     "text": [
      "\n",
      "Requirement already satisfied: requests<3.0.0dev,>=2.18.0 in c:\\users\\lukas\\.virtualenvs\\tud-is-sentiment-eogrpoki\\lib\\site-packages (from google-api-core[grpc]<3.0.0dev,>=1.26.0->google-cloud-language==2.2.2) (2.26.0)\n",
      "Requirement already satisfied: protobuf>=3.12.0 in c:\\users\\lukas\\.virtualenvs\\tud-is-sentiment-eogrpoki\\lib\\site-packages (from google-api-core[grpc]<3.0.0dev,>=1.26.0->google-cloud-language==2.2.2) (3.17.3)\n",
      "Requirement already satisfied: google-auth<3.0dev,>=1.25.0 in c:\\users\\lukas\\.virtualenvs\\tud-is-sentiment-eogrpoki\\lib\\site-packages (from google-api-core[grpc]<3.0.0dev,>=1.26.0->google-cloud-language==2.2.2) (2.0.2)\n",
      "Requirement already satisfied: setuptools>=40.3.0 in c:\\users\\lukas\\.virtualenvs\\tud-is-sentiment-eogrpoki\\lib\\site-packages (from google-api-core[grpc]<3.0.0dev,>=1.26.0->google-cloud-language==2.2.2) (51.3.3)\n",
      "Requirement already satisfied: grpcio<2.0dev,>=1.33.2 in c:\\users\\lukas\\.virtualenvs\\tud-is-sentiment-eogrpoki\\lib\\site-packages (from google-api-core[grpc]<3.0.0dev,>=1.26.0->google-cloud-language==2.2.2) (1.40.0)\n",
      "Requirement already satisfied: rsa<5,>=3.1.4 in c:\\users\\lukas\\.virtualenvs\\tud-is-sentiment-eogrpoki\\lib\\site-packages (from google-auth<3.0dev,>=1.25.0->google-api-core[grpc]<3.0.0dev,>=1.26.0->google-cloud-language==2.2.2) (4.7.2)\n",
      "Requirement already satisfied: pyasn1-modules>=0.2.1 in c:\\users\\lukas\\.virtualenvs\\tud-is-sentiment-eogrpoki\\lib\\site-packages (from google-auth<3.0dev,>=1.25.0->google-api-core[grpc]<3.0.0dev,>=1.26.0->google-cloud-language==2.2.2) (0.2.8)\n",
      "Requirement already satisfied: cachetools<5.0,>=2.0.0 in c:\\users\\lukas\\.virtualenvs\\tud-is-sentiment-eogrpoki\\lib\\site-packages (from google-auth<3.0dev,>=1.25.0->google-api-core[grpc]<3.0.0dev,>=1.26.0->google-cloud-language==2.2.2) (4.2.2)\n",
      "Requirement already satisfied: six>=1.5.2 in c:\\users\\lukas\\.virtualenvs\\tud-is-sentiment-eogrpoki\\lib\\site-packages (from grpcio<2.0dev,>=1.33.2->google-api-core[grpc]<3.0.0dev,>=1.26.0->google-cloud-language==2.2.2) (1.16.0)\n",
      "Requirement already satisfied: pyparsing>=2.0.2 in c:\\users\\lukas\\.virtualenvs\\tud-is-sentiment-eogrpoki\\lib\\site-packages (from packaging>=14.3->google-cloud-language==2.2.2) (2.4.7)\n",
      "Requirement already satisfied: pyasn1<0.5.0,>=0.4.6 in c:\\users\\lukas\\.virtualenvs\\tud-is-sentiment-eogrpoki\\lib\\site-packages (from pyasn1-modules>=0.2.1->google-auth<3.0dev,>=1.25.0->google-api-core[grpc]<3.0.0dev,>=1.26.0->google-cloud-language==2.2.2) (0.4.8)\n",
      "Requirement already satisfied: idna<4,>=2.5 in c:\\users\\lukas\\.virtualenvs\\tud-is-sentiment-eogrpoki\\lib\\site-packages (from requests<3.0.0dev,>=2.18.0->google-api-core[grpc]<3.0.0dev,>=1.26.0->google-cloud-language==2.2.2) (3.2)\n",
      "Requirement already satisfied: certifi>=2017.4.17 in c:\\users\\lukas\\.virtualenvs\\tud-is-sentiment-eogrpoki\\lib\\site-packages (from requests<3.0.0dev,>=2.18.0->google-api-core[grpc]<3.0.0dev,>=1.26.0->google-cloud-language==2.2.2) (2021.5.30)\n",
      "Requirement already satisfied: urllib3<1.27,>=1.21.1 in c:\\users\\lukas\\.virtualenvs\\tud-is-sentiment-eogrpoki\\lib\\site-packages (from requests<3.0.0dev,>=2.18.0->google-api-core[grpc]<3.0.0dev,>=1.26.0->google-cloud-language==2.2.2) (1.26.6)\n",
      "Requirement already satisfied: charset-normalizer~=2.0.0 in c:\\users\\lukas\\.virtualenvs\\tud-is-sentiment-eogrpoki\\lib\\site-packages (from requests<3.0.0dev,>=2.18.0->google-api-core[grpc]<3.0.0dev,>=1.26.0->google-cloud-language==2.2.2) (2.0.4)\n",
      "Requirement already satisfied: python-dateutil in c:\\users\\lukas\\.virtualenvs\\tud-is-sentiment-eogrpoki\\lib\\site-packages (from searchtweets-v2) (2.8.2)\n",
      "Requirement already satisfied: pyyaml in c:\\users\\lukas\\.virtualenvs\\tud-is-sentiment-eogrpoki\\lib\\site-packages (from searchtweets-v2) (5.4.1)\n"
     ]
    }
   ],
   "metadata": {}
  },
  {
   "cell_type": "code",
   "execution_count": 20,
   "source": [
    "import os\r\n",
    "import time\r\n",
    "import pandas as pd\r\n",
    "import matplotlib.pyplot as plt\r\n",
    "from collections import namedtuple\r\n",
    "from google.cloud import language\r\n",
    "from google.auth import load_credentials_from_file\r\n",
    "from searchtweets import ResultStream, gen_request_parameters, load_credentials\r\n"
   ],
   "outputs": [],
   "metadata": {}
  },
  {
   "cell_type": "markdown",
   "source": [
    "### Preparations Google NLP-API\r\n",
    "To authenticate against the Google NLP-API an enviromentvariable `GOOGLE_APPLICATION_CREDENTIALS` pointing to a credentials file must be present in the executing environment.\r\n",
    "\r\n",
    "In addition the `analyze_text`-function uses a basic caching mechanism to save on API-Calls and network time."
   ],
   "metadata": {}
  },
  {
   "cell_type": "code",
   "execution_count": 21,
   "source": [
    "# Instantiates a client\r\n",
    "nlp_client = language.LanguageServiceClient(credentials=load_credentials_from_file('./credentials/tud-is-sentiment.json')[0])\r\n",
    "\r\n",
    "\r\n",
    "def analyze_text(text, scope='document'):\r\n",
    "    document = language.Document(\r\n",
    "        content=text, type_=language.Document.Type.PLAIN_TEXT)\r\n",
    "    \r\n",
    "    f = nlp_client.analyze_entity_sentiment if scope == 'entity' else nlp_client.analyze_sentiment\r\n",
    "\r\n",
    "    analysis = f(request={'document': document})\r\n",
    "\r\n",
    "    return analysis\r\n"
   ],
   "outputs": [],
   "metadata": {}
  },
  {
   "cell_type": "markdown",
   "source": [
    "### Preparations for Twitter-API\r\n",
    "Tweets from twitter are fetched using the search-tweets library. To fetch tweets a `fetch-tweets`-function is defined that returns tweets for the query from a disk cache if possible.\r\n",
    "\r\n",
    "[https://github.com/twitterdev/search-tweets-python/tree/v2](https://github.com/twitterdev/search-tweets-python/tree/v2)"
   ],
   "metadata": {}
  },
  {
   "cell_type": "code",
   "execution_count": 22,
   "source": [
    "twitter_credentials_filename = \"./credentials/twitter-academic.yml\"\r\n",
    "\r\n",
    "search_args_all = load_credentials(\r\n",
    "    filename=twitter_credentials_filename,\r\n",
    "    yaml_key=\"search_all_tweets_v2\"\r\n",
    ")\r\n",
    "\r\n",
    "search_args_recent = load_credentials(\r\n",
    "    filename=twitter_credentials_filename,\r\n",
    "    yaml_key=\"search_recent_tweets_v2\"\r\n",
    ")\r\n",
    "\r\n",
    "cache_directory = 'cache'\r\n",
    "\r\n",
    "\r\n",
    "def fetch_tweets(search_term, credentials=search_args_all, max_results=10000):\r\n",
    "    query = \"{} -is:retweet\".format(search_term)\r\n",
    "\r\n",
    "    cache_path = os.path.join('.', cache_directory, '{}.csv'.format(\r\n",
    "        ''.join(l for l in query if l not in [' ', ':'])\r\n",
    "    ))\r\n",
    "\r\n",
    "    os.makedirs(os.path.dirname(cache_path), exist_ok=True)\r\n",
    "\r\n",
    "    try:\r\n",
    "        df = pd.read_csv(cache_path)\r\n",
    "\r\n",
    "    except FileNotFoundError:\r\n",
    "        tweet_fields = [\r\n",
    "            'id',\r\n",
    "            'created_at',\r\n",
    "            'text',\r\n",
    "            'lang',\r\n",
    "            # 'entities',\r\n",
    "            'geo',\r\n",
    "            # 'public_metrics',\r\n",
    "            'source'\r\n",
    "        ]\r\n",
    "\r\n",
    "        rs = ResultStream(\r\n",
    "            request_parameters=gen_request_parameters(\r\n",
    "                query,\r\n",
    "                None,\r\n",
    "                results_per_call=500,\r\n",
    "                tweet_fields=','.join(tweet_fields)\r\n",
    "            ),\r\n",
    "            max_results=max_results,\r\n",
    "            **credentials\r\n",
    "        )\r\n",
    "\r\n",
    "        df = pd.DataFrame(\r\n",
    "\r\n",
    "            data=sum([page['data'] for page in rs.stream()], [])\r\n",
    "        )\r\n",
    "\r\n",
    "        df.to_csv(cache_path, index=False)\r\n",
    "\r\n",
    "    df = df.convert_dtypes()\r\n",
    "    df['created_at'] = pd.to_datetime(df['created_at'])\r\n",
    "\r\n",
    "    return df\r\n"
   ],
   "outputs": [],
   "metadata": {}
  },
  {
   "cell_type": "code",
   "execution_count": 23,
   "source": [
    "df = fetch_tweets('artificial intelligence')\r\n",
    "df.head()"
   ],
   "outputs": [
    {
     "output_type": "execute_result",
     "data": {
      "text/html": [
       "<div>\n",
       "<style scoped>\n",
       "    .dataframe tbody tr th:only-of-type {\n",
       "        vertical-align: middle;\n",
       "    }\n",
       "\n",
       "    .dataframe tbody tr th {\n",
       "        vertical-align: top;\n",
       "    }\n",
       "\n",
       "    .dataframe thead th {\n",
       "        text-align: right;\n",
       "    }\n",
       "</style>\n",
       "<table border=\"1\" class=\"dataframe\">\n",
       "  <thead>\n",
       "    <tr style=\"text-align: right;\">\n",
       "      <th></th>\n",
       "      <th>id</th>\n",
       "      <th>text</th>\n",
       "      <th>created_at</th>\n",
       "      <th>lang</th>\n",
       "      <th>source</th>\n",
       "      <th>geo</th>\n",
       "    </tr>\n",
       "  </thead>\n",
       "  <tbody>\n",
       "    <tr>\n",
       "      <th>0</th>\n",
       "      <td>1438397948283396101</td>\n",
       "      <td>This tractor is hard at work, helping farms go...</td>\n",
       "      <td>2021-09-16 07:02:49+00:00</td>\n",
       "      <td>en</td>\n",
       "      <td>PostBeyond</td>\n",
       "      <td>&lt;NA&gt;</td>\n",
       "    </tr>\n",
       "    <tr>\n",
       "      <th>1</th>\n",
       "      <td>1438397892616622081</td>\n",
       "      <td>But it’s calm under the waves, in the blue of ...</td>\n",
       "      <td>2021-09-16 07:02:36+00:00</td>\n",
       "      <td>en</td>\n",
       "      <td>Twitter for iPhone</td>\n",
       "      <td>&lt;NA&gt;</td>\n",
       "    </tr>\n",
       "    <tr>\n",
       "      <th>2</th>\n",
       "      <td>1438397795761901570</td>\n",
       "      <td>Hello! Maybe it will be interesting for you.\n",
       "\n",
       "...</td>\n",
       "      <td>2021-09-16 07:02:13+00:00</td>\n",
       "      <td>en</td>\n",
       "      <td>Twitter Web App</td>\n",
       "      <td>&lt;NA&gt;</td>\n",
       "    </tr>\n",
       "    <tr>\n",
       "      <th>3</th>\n",
       "      <td>1438397775276826630</td>\n",
       "      <td>Advantages and Disadvantages of Artificial Int...</td>\n",
       "      <td>2021-09-16 07:02:08+00:00</td>\n",
       "      <td>en</td>\n",
       "      <td>bitsecurity01</td>\n",
       "      <td>&lt;NA&gt;</td>\n",
       "    </tr>\n",
       "    <tr>\n",
       "      <th>4</th>\n",
       "      <td>1438397705164754953</td>\n",
       "      <td>Nothing wrong when a song ends in the minor ke...</td>\n",
       "      <td>2021-09-16 07:01:51+00:00</td>\n",
       "      <td>en</td>\n",
       "      <td>Twitter for iPhone</td>\n",
       "      <td>&lt;NA&gt;</td>\n",
       "    </tr>\n",
       "  </tbody>\n",
       "</table>\n",
       "</div>"
      ],
      "text/plain": [
       "                    id                                               text  \\\n",
       "0  1438397948283396101  This tractor is hard at work, helping farms go...   \n",
       "1  1438397892616622081  But it’s calm under the waves, in the blue of ...   \n",
       "2  1438397795761901570  Hello! Maybe it will be interesting for you.\n",
       "\n",
       "...   \n",
       "3  1438397775276826630  Advantages and Disadvantages of Artificial Int...   \n",
       "4  1438397705164754953  Nothing wrong when a song ends in the minor ke...   \n",
       "\n",
       "                 created_at lang              source   geo  \n",
       "0 2021-09-16 07:02:49+00:00   en          PostBeyond  <NA>  \n",
       "1 2021-09-16 07:02:36+00:00   en  Twitter for iPhone  <NA>  \n",
       "2 2021-09-16 07:02:13+00:00   en     Twitter Web App  <NA>  \n",
       "3 2021-09-16 07:02:08+00:00   en       bitsecurity01  <NA>  \n",
       "4 2021-09-16 07:01:51+00:00   en  Twitter for iPhone  <NA>  "
      ]
     },
     "metadata": {},
     "execution_count": 23
    }
   ],
   "metadata": {}
  },
  {
   "cell_type": "code",
   "execution_count": 24,
   "source": [
    "sentiment_df = df.groupby('lang').resample('H', on='created_at').agg({'text': '. '.join})\r\n",
    "\r\n",
    "ds = []\r\n",
    "for row in sentiment_df.text:\r\n",
    "    try:\r\n",
    "        ds.append(analyze_text(row).document_sentiment)\r\n",
    "    except:\r\n",
    "        ds.append(namedtuple('Sentiment', ['score', 'magnitude'])(0,0))\r\n",
    "\r\n",
    "scores, magnitudes = zip(*[(s.score, s.magnitude) for s in ds])\r\n",
    "\r\n",
    "sentiment_df['score'] = scores\r\n",
    "sentiment_df['magnitude'] = magnitudes\r\n",
    "\r\n",
    "sentiment_df.head()"
   ],
   "outputs": [
    {
     "output_type": "execute_result",
     "data": {
      "text/html": [
       "<div>\n",
       "<style scoped>\n",
       "    .dataframe tbody tr th:only-of-type {\n",
       "        vertical-align: middle;\n",
       "    }\n",
       "\n",
       "    .dataframe tbody tr th {\n",
       "        vertical-align: top;\n",
       "    }\n",
       "\n",
       "    .dataframe thead th {\n",
       "        text-align: right;\n",
       "    }\n",
       "</style>\n",
       "<table border=\"1\" class=\"dataframe\">\n",
       "  <thead>\n",
       "    <tr style=\"text-align: right;\">\n",
       "      <th></th>\n",
       "      <th></th>\n",
       "      <th>text</th>\n",
       "      <th>score</th>\n",
       "      <th>magnitude</th>\n",
       "    </tr>\n",
       "    <tr>\n",
       "      <th>lang</th>\n",
       "      <th>created_at</th>\n",
       "      <th></th>\n",
       "      <th></th>\n",
       "      <th></th>\n",
       "    </tr>\n",
       "  </thead>\n",
       "  <tbody>\n",
       "    <tr>\n",
       "      <th rowspan=\"3\" valign=\"top\">da</th>\n",
       "      <th>2021-09-16 02:00:00+00:00</th>\n",
       "      <td>Finland - Artificial Intelligence https://t.co...</td>\n",
       "      <td>0.0</td>\n",
       "      <td>0.0</td>\n",
       "    </tr>\n",
       "    <tr>\n",
       "      <th>2021-09-16 03:00:00+00:00</th>\n",
       "      <td></td>\n",
       "      <td>0.0</td>\n",
       "      <td>0.0</td>\n",
       "    </tr>\n",
       "    <tr>\n",
       "      <th>2021-09-16 04:00:00+00:00</th>\n",
       "      <td>Artificial Intelligence for IAF’s enhanced air...</td>\n",
       "      <td>0.2</td>\n",
       "      <td>0.2</td>\n",
       "    </tr>\n",
       "    <tr>\n",
       "      <th>de</th>\n",
       "      <th>2021-09-16 07:00:00+00:00</th>\n",
       "      <td>#KI, #MachineLearning und explorative Datenana...</td>\n",
       "      <td>0.2</td>\n",
       "      <td>0.8</td>\n",
       "    </tr>\n",
       "    <tr>\n",
       "      <th>en</th>\n",
       "      <th>2021-09-16 02:00:00+00:00</th>\n",
       "      <td>@carfraction @Michigandolf @tradermike88 Yeah ...</td>\n",
       "      <td>0.0</td>\n",
       "      <td>8.0</td>\n",
       "    </tr>\n",
       "  </tbody>\n",
       "</table>\n",
       "</div>"
      ],
      "text/plain": [
       "                                                                             text  \\\n",
       "lang created_at                                                                     \n",
       "da   2021-09-16 02:00:00+00:00  Finland - Artificial Intelligence https://t.co...   \n",
       "     2021-09-16 03:00:00+00:00                                                      \n",
       "     2021-09-16 04:00:00+00:00  Artificial Intelligence for IAF’s enhanced air...   \n",
       "de   2021-09-16 07:00:00+00:00  #KI, #MachineLearning und explorative Datenana...   \n",
       "en   2021-09-16 02:00:00+00:00  @carfraction @Michigandolf @tradermike88 Yeah ...   \n",
       "\n",
       "                                score  magnitude  \n",
       "lang created_at                                   \n",
       "da   2021-09-16 02:00:00+00:00    0.0        0.0  \n",
       "     2021-09-16 03:00:00+00:00    0.0        0.0  \n",
       "     2021-09-16 04:00:00+00:00    0.2        0.2  \n",
       "de   2021-09-16 07:00:00+00:00    0.2        0.8  \n",
       "en   2021-09-16 02:00:00+00:00    0.0        8.0  "
      ]
     },
     "metadata": {},
     "execution_count": 24
    }
   ],
   "metadata": {}
  },
  {
   "cell_type": "code",
   "execution_count": 26,
   "source": [
    "fig,ax = plt.subplots(figsize=(18, 8))\r\n",
    "\r\n",
    "languages = sentiment_df.index.levels[0]\r\n",
    "for lang in ['en', 'de', 'es', 'fr']:\r\n",
    "    ax.plot(sentiment_df.loc[(lang)].score, 'o-', label=lang)\r\n",
    "    #ax.plot(sentiment_df.loc[(lang)].magnitude, 'o--', label=lang)\r\n",
    "\r\n",
    "ax.set_xlabel(\"time\")\r\n",
    "ax.set_ylabel(\"sentiment score\")\r\n",
    "ax.legend(loc='best')\r\n",
    "plt.xticks(rotation=45)\r\n",
    "plt.show()"
   ],
   "outputs": [
    {
     "output_type": "display_data",
     "data": {
      "image/png": "[encoded data removed]",
      "text/plain": [
       "<Figure size 1296x576 with 1 Axes>"
      ]
     },
     "metadata": {
      "needs_background": "light"
     }
    }
   ],
   "metadata": {}
  },
  {
   "cell_type": "code",
   "execution_count": null,
   "source": [],
   "outputs": [],
   "metadata": {}
  }
 ],
 "metadata": {
  "orig_nbformat": 4,
  "language_info": {
   "name": "python",
   "version": "3.7.9",
   "mimetype": "text/x-python",
   "codemirror_mode": {
    "name": "ipython",
    "version": 3
   },
   "pygments_lexer": "ipython3",
   "nbconvert_exporter": "python",
   "file_extension": ".py"
  },
  "kernelspec": {
   "name": "python3",
   "display_name": "Python 3.7.9 64-bit ('tud-is-sentiment-eogrpOkI': pipenv)"
  },
  "interpreter": {
   "hash": "a34627970249a5cc7440a86baa7a266c59e2ac08413904645d42aec56580eb51"
  }
 },
 "nbformat": 4,
 "nbformat_minor": 2
}